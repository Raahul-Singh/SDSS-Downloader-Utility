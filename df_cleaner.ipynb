{
 "cells": [
  {
   "cell_type": "code",
   "execution_count": 1,
   "metadata": {},
   "outputs": [],
   "source": [
    "import pandas as pd"
   ]
  },
  {
   "cell_type": "code",
   "execution_count": 2,
   "metadata": {},
   "outputs": [],
   "source": [
    "data = pd.read_csv('data_lt_1_sampled_75_k_rows_updated.csv', index_col=0)"
   ]
  },
  {
   "cell_type": "code",
   "execution_count": 3,
   "metadata": {},
   "outputs": [],
   "source": [
    "urls = data[['fits_url_u', 'fits_url_g', 'fits_url_r',\n",
    "       'fits_url_i', 'fits_url_z']]"
   ]
  },
  {
   "cell_type": "code",
   "execution_count": 4,
   "metadata": {},
   "outputs": [
    {
     "data": {
      "text/plain": [
       "(51898, 5)"
      ]
     },
     "execution_count": 4,
     "metadata": {},
     "output_type": "execute_result"
    }
   ],
   "source": [
    "urls.drop_duplicates().shape"
   ]
  },
  {
   "cell_type": "code",
   "execution_count": 5,
   "metadata": {},
   "outputs": [],
   "source": [
    "unique_urls = urls.drop_duplicates().reset_index()"
   ]
  },
  {
   "cell_type": "code",
   "execution_count": 6,
   "metadata": {},
   "outputs": [],
   "source": [
    "file_names = unique_urls['fits_url_u'].apply(lambda x: x.split('/')[-1])\n"
   ]
  },
  {
   "cell_type": "code",
   "execution_count": 7,
   "metadata": {},
   "outputs": [
    {
     "data": {
      "text/plain": [
       "0        frame-u-001754-6-0053.fits.bz2\n",
       "1        frame-u-002576-5-0105.fits.bz2\n",
       "2        frame-u-003699-5-0213.fits.bz2\n",
       "3        frame-u-002248-3-0205.fits.bz2\n",
       "4        frame-u-002334-1-0218.fits.bz2\n",
       "                      ...              \n",
       "51893    frame-u-001737-3-0059.fits.bz2\n",
       "51894    frame-u-001412-3-0377.fits.bz2\n",
       "51895    frame-u-001462-2-0467.fits.bz2\n",
       "51896    frame-u-001659-4-0171.fits.bz2\n",
       "51897    frame-u-002677-2-0066.fits.bz2\n",
       "Name: fits_url_u, Length: 51898, dtype: object"
      ]
     },
     "execution_count": 7,
     "metadata": {},
     "output_type": "execute_result"
    }
   ],
   "source": [
    "file_names"
   ]
  },
  {
   "cell_type": "code",
   "execution_count": 8,
   "metadata": {},
   "outputs": [
    {
     "name": "stderr",
     "output_type": "stream",
     "text": [
      "/var/folders/mm/5g2ls_1s6wj8wnbyd7cdqt640000gn/T/ipykernel_62016/96227104.py:1: ParserWarning: Falling back to the 'python' engine because the 'c' engine does not support regex separators (separators > 1 char and different from '\\s+' are interpreted as regex); you can avoid this warning by specifying engine='python'.\n",
      "  downloaded_files = pd.read_csv('drive_paths.txt', delimiter = \", \", header=None)\n"
     ]
    }
   ],
   "source": [
    "downloaded_files = pd.read_csv('drive_paths.txt', delimiter = \", \", header=None)\n",
    "downloaded_files.columns = ['file_path']"
   ]
  },
  {
   "cell_type": "code",
   "execution_count": 9,
   "metadata": {},
   "outputs": [
    {
     "data": {
      "text/html": [
       "<div>\n",
       "<style scoped>\n",
       "    .dataframe tbody tr th:only-of-type {\n",
       "        vertical-align: middle;\n",
       "    }\n",
       "\n",
       "    .dataframe tbody tr th {\n",
       "        vertical-align: top;\n",
       "    }\n",
       "\n",
       "    .dataframe thead th {\n",
       "        text-align: right;\n",
       "    }\n",
       "</style>\n",
       "<table border=\"1\" class=\"dataframe\">\n",
       "  <thead>\n",
       "    <tr style=\"text-align: right;\">\n",
       "      <th></th>\n",
       "      <th>file_path</th>\n",
       "    </tr>\n",
       "  </thead>\n",
       "  <tbody>\n",
       "    <tr>\n",
       "      <th>0</th>\n",
       "      <td>batch_5610/frame-i-002864-6-0165.fits.bz2,</td>\n",
       "    </tr>\n",
       "    <tr>\n",
       "      <th>1</th>\n",
       "      <td>batch_5610/frame-z-002506-5-0053.fits.bz2,</td>\n",
       "    </tr>\n",
       "    <tr>\n",
       "      <th>2</th>\n",
       "      <td>batch_5610/frame-i-002964-2-0313.fits.bz2,</td>\n",
       "    </tr>\n",
       "    <tr>\n",
       "      <th>3</th>\n",
       "      <td>batch_5610/frame-z-003650-3-0063.fits.bz2,</td>\n",
       "    </tr>\n",
       "    <tr>\n",
       "      <th>4</th>\n",
       "      <td>batch_5610/frame-z-002074-4-0150.fits.bz2,</td>\n",
       "    </tr>\n",
       "    <tr>\n",
       "      <th>...</th>\n",
       "      <td>...</td>\n",
       "    </tr>\n",
       "    <tr>\n",
       "      <th>26089</th>\n",
       "      <td>batch_3410/frame-u-001350-2-0339.fits.bz2,</td>\n",
       "    </tr>\n",
       "    <tr>\n",
       "      <th>26090</th>\n",
       "      <td>batch_3410/frame-u-003015-4-0397.fits.bz2,</td>\n",
       "    </tr>\n",
       "    <tr>\n",
       "      <th>26091</th>\n",
       "      <td>batch_3410/frame-u-002964-4-0452.fits.bz2,</td>\n",
       "    </tr>\n",
       "    <tr>\n",
       "      <th>26092</th>\n",
       "      <td>batch_3410/frame-u-003631-6-0378.fits.bz2,</td>\n",
       "    </tr>\n",
       "    <tr>\n",
       "      <th>26093</th>\n",
       "      <td>batch_3410/frame-u-001659-1-0032.fits.bz2,</td>\n",
       "    </tr>\n",
       "  </tbody>\n",
       "</table>\n",
       "<p>26094 rows × 1 columns</p>\n",
       "</div>"
      ],
      "text/plain": [
       "                                        file_path\n",
       "0      batch_5610/frame-i-002864-6-0165.fits.bz2,\n",
       "1      batch_5610/frame-z-002506-5-0053.fits.bz2,\n",
       "2      batch_5610/frame-i-002964-2-0313.fits.bz2,\n",
       "3      batch_5610/frame-z-003650-3-0063.fits.bz2,\n",
       "4      batch_5610/frame-z-002074-4-0150.fits.bz2,\n",
       "...                                           ...\n",
       "26089  batch_3410/frame-u-001350-2-0339.fits.bz2,\n",
       "26090  batch_3410/frame-u-003015-4-0397.fits.bz2,\n",
       "26091  batch_3410/frame-u-002964-4-0452.fits.bz2,\n",
       "26092  batch_3410/frame-u-003631-6-0378.fits.bz2,\n",
       "26093  batch_3410/frame-u-001659-1-0032.fits.bz2,\n",
       "\n",
       "[26094 rows x 1 columns]"
      ]
     },
     "execution_count": 9,
     "metadata": {},
     "output_type": "execute_result"
    }
   ],
   "source": [
    "downloaded_files"
   ]
  },
  {
   "cell_type": "code",
   "execution_count": 11,
   "metadata": {},
   "outputs": [],
   "source": [
    "names = downloaded_files['file_path'].apply(lambda x: x.split('/')[-1][:-1])\n"
   ]
  },
  {
   "cell_type": "code",
   "execution_count": 12,
   "metadata": {},
   "outputs": [
    {
     "data": {
      "text/plain": [
       "0        frame-i-002864-6-0165.fits.bz2\n",
       "1        frame-z-002506-5-0053.fits.bz2\n",
       "2        frame-i-002964-2-0313.fits.bz2\n",
       "3        frame-z-003650-3-0063.fits.bz2\n",
       "4        frame-z-002074-4-0150.fits.bz2\n",
       "                      ...              \n",
       "26089    frame-u-001350-2-0339.fits.bz2\n",
       "26090    frame-u-003015-4-0397.fits.bz2\n",
       "26091    frame-u-002964-4-0452.fits.bz2\n",
       "26092    frame-u-003631-6-0378.fits.bz2\n",
       "26093    frame-u-001659-1-0032.fits.bz2\n",
       "Name: file_path, Length: 26094, dtype: object"
      ]
     },
     "execution_count": 12,
     "metadata": {},
     "output_type": "execute_result"
    }
   ],
   "source": [
    "names"
   ]
  },
  {
   "cell_type": "code",
   "execution_count": 13,
   "metadata": {},
   "outputs": [
    {
     "data": {
      "text/plain": [
       "0        frame-x-002864-6-0165.fits.bz2\n",
       "1        frame-x-002506-5-0053.fits.bz2\n",
       "2        frame-x-002964-2-0313.fits.bz2\n",
       "3        frame-x-003650-3-0063.fits.bz2\n",
       "4        frame-x-002074-4-0150.fits.bz2\n",
       "                      ...              \n",
       "26089    frame-x-001350-2-0339.fits.bz2\n",
       "26090    frame-x-003015-4-0397.fits.bz2\n",
       "26091    frame-x-002964-4-0452.fits.bz2\n",
       "26092    frame-x-003631-6-0378.fits.bz2\n",
       "26093    frame-x-001659-1-0032.fits.bz2\n",
       "Name: file_path, Length: 26094, dtype: object"
      ]
     },
     "execution_count": 13,
     "metadata": {},
     "output_type": "execute_result"
    }
   ],
   "source": [
    "names_common = names.apply(lambda x: x.replace(\"frame-r-\", \"frame-x-\").replace(\"frame-u-\", \"frame-x-\").replace(\"frame-g-\", \"frame-x-\").replace(\"frame-i-\", \"frame-x-\").replace(\"frame-z-\", \"frame-x-\"))\n",
    "names_common"
   ]
  },
  {
   "cell_type": "code",
   "execution_count": 14,
   "metadata": {},
   "outputs": [],
   "source": [
    "downloaded_names_common = names_common.drop_duplicates().reset_index(drop=True)"
   ]
  },
  {
   "cell_type": "code",
   "execution_count": 15,
   "metadata": {},
   "outputs": [
    {
     "data": {
      "text/plain": [
       "0       frame-x-002864-6-0165.fits.bz2\n",
       "1       frame-x-002506-5-0053.fits.bz2\n",
       "2       frame-x-002964-2-0313.fits.bz2\n",
       "3       frame-x-003650-3-0063.fits.bz2\n",
       "4       frame-x-002074-4-0150.fits.bz2\n",
       "                     ...              \n",
       "5235    frame-x-001462-3-0249.fits.bz2\n",
       "5236    frame-x-001412-6-0268.fits.bz2\n",
       "5237    frame-x-001231-6-0184.fits.bz2\n",
       "5238    frame-x-002507-5-0262.fits.bz2\n",
       "5239    frame-x-001458-2-0702.fits.bz2\n",
       "Name: file_path, Length: 5240, dtype: object"
      ]
     },
     "execution_count": 15,
     "metadata": {},
     "output_type": "execute_result"
    }
   ],
   "source": [
    "downloaded_names_common"
   ]
  },
  {
   "cell_type": "code",
   "execution_count": 16,
   "metadata": {},
   "outputs": [],
   "source": [
    "file_names_common = file_names.apply(lambda x: x.replace(\"frame-u-\", \"frame-x-\"))\n",
    "file_names_common = file_names_common.reset_index(drop=True)"
   ]
  },
  {
   "cell_type": "code",
   "execution_count": 17,
   "metadata": {},
   "outputs": [
    {
     "data": {
      "text/plain": [
       "set()"
      ]
     },
     "execution_count": 17,
     "metadata": {},
     "output_type": "execute_result"
    }
   ],
   "source": [
    "set(downloaded_names_common) - set(file_names_common)"
   ]
  },
  {
   "cell_type": "code",
   "execution_count": 18,
   "metadata": {},
   "outputs": [],
   "source": [
    "files_left_to_download = file_names_common[~file_names_common.isin(downloaded_names_common)]"
   ]
  },
  {
   "cell_type": "code",
   "execution_count": 19,
   "metadata": {},
   "outputs": [
    {
     "data": {
      "text/plain": [
       "230      frame-x-003031-6-0287.fits.bz2\n",
       "231      frame-x-001739-3-0161.fits.bz2\n",
       "232      frame-x-003525-1-0141.fits.bz2\n",
       "233      frame-x-001412-3-0175.fits.bz2\n",
       "234      frame-x-002074-5-0134.fits.bz2\n",
       "                      ...              \n",
       "51893    frame-x-001737-3-0059.fits.bz2\n",
       "51894    frame-x-001412-3-0377.fits.bz2\n",
       "51895    frame-x-001462-2-0467.fits.bz2\n",
       "51896    frame-x-001659-4-0171.fits.bz2\n",
       "51897    frame-x-002677-2-0066.fits.bz2\n",
       "Name: fits_url_u, Length: 46658, dtype: object"
      ]
     },
     "execution_count": 19,
     "metadata": {},
     "output_type": "execute_result"
    }
   ],
   "source": [
    "files_left_to_download"
   ]
  },
  {
   "cell_type": "code",
   "execution_count": 20,
   "metadata": {},
   "outputs": [],
   "source": [
    "data[\"filenames\"] = data['fits_url_u'].apply(lambda x: x.split('/')[-1])\n",
    "data[\"filenames\"] = data['filenames'].apply(lambda x: x.replace(\"frame-u-\", \"frame-x-\"))\n",
    "data[\"fits_url\"] = data[\"fits_url_u\"].apply(lambda x: x.replace(\"frame-u-\", \"frame-x-\"))\n",
    "data = data.drop(columns=['fits_url_u', 'fits_url_g', 'fits_url_r', 'fits_url_i', 'fits_url_z'])"
   ]
  },
  {
   "cell_type": "code",
   "execution_count": 21,
   "metadata": {},
   "outputs": [
    {
     "data": {
      "text/html": [
       "<div>\n",
       "<style scoped>\n",
       "    .dataframe tbody tr th:only-of-type {\n",
       "        vertical-align: middle;\n",
       "    }\n",
       "\n",
       "    .dataframe tbody tr th {\n",
       "        vertical-align: top;\n",
       "    }\n",
       "\n",
       "    .dataframe thead th {\n",
       "        text-align: right;\n",
       "    }\n",
       "</style>\n",
       "<table border=\"1\" class=\"dataframe\">\n",
       "  <thead>\n",
       "    <tr style=\"text-align: right;\">\n",
       "      <th></th>\n",
       "      <th>objID</th>\n",
       "      <th>run</th>\n",
       "      <th>ra</th>\n",
       "      <th>dec</th>\n",
       "      <th>rerun</th>\n",
       "      <th>camcol</th>\n",
       "      <th>field</th>\n",
       "      <th>z</th>\n",
       "      <th>zErr</th>\n",
       "      <th>rChi2</th>\n",
       "      <th>z_range</th>\n",
       "      <th>filenames</th>\n",
       "      <th>fits_url</th>\n",
       "    </tr>\n",
       "  </thead>\n",
       "  <tbody>\n",
       "    <tr>\n",
       "      <th>0</th>\n",
       "      <td>1237653009194091114</td>\n",
       "      <td>1754</td>\n",
       "      <td>316.804643</td>\n",
       "      <td>11.133585</td>\n",
       "      <td>301</td>\n",
       "      <td>6</td>\n",
       "      <td>53</td>\n",
       "      <td>0.104385</td>\n",
       "      <td>0.000014</td>\n",
       "      <td>1.120883</td>\n",
       "      <td>lt_1</td>\n",
       "      <td>frame-x-001754-6-0053.fits.bz2</td>\n",
       "      <td>https://data.sdss.org/sas/dr18/prior-surveys/s...</td>\n",
       "    </tr>\n",
       "    <tr>\n",
       "      <th>1</th>\n",
       "      <td>1237656539123744894</td>\n",
       "      <td>2576</td>\n",
       "      <td>337.223428</td>\n",
       "      <td>-8.332351</td>\n",
       "      <td>301</td>\n",
       "      <td>5</td>\n",
       "      <td>105</td>\n",
       "      <td>0.104736</td>\n",
       "      <td>0.000007</td>\n",
       "      <td>1.297741</td>\n",
       "      <td>lt_1</td>\n",
       "      <td>frame-x-002576-5-0105.fits.bz2</td>\n",
       "      <td>https://data.sdss.org/sas/dr18/prior-surveys/s...</td>\n",
       "    </tr>\n",
       "    <tr>\n",
       "      <th>2</th>\n",
       "      <td>1237661362379096252</td>\n",
       "      <td>3699</td>\n",
       "      <td>224.340306</td>\n",
       "      <td>40.781655</td>\n",
       "      <td>301</td>\n",
       "      <td>5</td>\n",
       "      <td>213</td>\n",
       "      <td>0.106243</td>\n",
       "      <td>0.000027</td>\n",
       "      <td>0.960538</td>\n",
       "      <td>lt_1</td>\n",
       "      <td>frame-x-003699-5-0213.fits.bz2</td>\n",
       "      <td>https://data.sdss.org/sas/dr18/prior-surveys/s...</td>\n",
       "    </tr>\n",
       "    <tr>\n",
       "      <th>3</th>\n",
       "      <td>1237655129307283754</td>\n",
       "      <td>2248</td>\n",
       "      <td>255.814784</td>\n",
       "      <td>34.476342</td>\n",
       "      <td>301</td>\n",
       "      <td>3</td>\n",
       "      <td>205</td>\n",
       "      <td>0.100582</td>\n",
       "      <td>0.000021</td>\n",
       "      <td>0.973104</td>\n",
       "      <td>lt_1</td>\n",
       "      <td>frame-x-002248-3-0205.fits.bz2</td>\n",
       "      <td>https://data.sdss.org/sas/dr18/prior-surveys/s...</td>\n",
       "    </tr>\n",
       "    <tr>\n",
       "      <th>4</th>\n",
       "      <td>1237655497601581344</td>\n",
       "      <td>2334</td>\n",
       "      <td>228.572001</td>\n",
       "      <td>-2.706987</td>\n",
       "      <td>301</td>\n",
       "      <td>1</td>\n",
       "      <td>218</td>\n",
       "      <td>0.104726</td>\n",
       "      <td>0.000037</td>\n",
       "      <td>0.939577</td>\n",
       "      <td>lt_1</td>\n",
       "      <td>frame-x-002334-1-0218.fits.bz2</td>\n",
       "      <td>https://data.sdss.org/sas/dr18/prior-surveys/s...</td>\n",
       "    </tr>\n",
       "    <tr>\n",
       "      <th>...</th>\n",
       "      <td>...</td>\n",
       "      <td>...</td>\n",
       "      <td>...</td>\n",
       "      <td>...</td>\n",
       "      <td>...</td>\n",
       "      <td>...</td>\n",
       "      <td>...</td>\n",
       "      <td>...</td>\n",
       "      <td>...</td>\n",
       "      <td>...</td>\n",
       "      <td>...</td>\n",
       "      <td>...</td>\n",
       "      <td>...</td>\n",
       "    </tr>\n",
       "    <tr>\n",
       "      <th>74995</th>\n",
       "      <td>1237660411038859590</td>\n",
       "      <td>3478</td>\n",
       "      <td>136.975599</td>\n",
       "      <td>5.738607</td>\n",
       "      <td>301</td>\n",
       "      <td>1</td>\n",
       "      <td>137</td>\n",
       "      <td>0.265376</td>\n",
       "      <td>0.000038</td>\n",
       "      <td>0.984898</td>\n",
       "      <td>lt_1</td>\n",
       "      <td>frame-x-003478-1-0137.fits.bz2</td>\n",
       "      <td>https://data.sdss.org/sas/dr18/prior-surveys/s...</td>\n",
       "    </tr>\n",
       "    <tr>\n",
       "      <th>74996</th>\n",
       "      <td>1237656528920707267</td>\n",
       "      <td>2574</td>\n",
       "      <td>262.594115</td>\n",
       "      <td>55.826540</td>\n",
       "      <td>301</td>\n",
       "      <td>2</td>\n",
       "      <td>67</td>\n",
       "      <td>0.370555</td>\n",
       "      <td>0.000067</td>\n",
       "      <td>1.176818</td>\n",
       "      <td>lt_1</td>\n",
       "      <td>frame-x-002574-2-0067.fits.bz2</td>\n",
       "      <td>https://data.sdss.org/sas/dr18/prior-surveys/s...</td>\n",
       "    </tr>\n",
       "    <tr>\n",
       "      <th>74997</th>\n",
       "      <td>1237651735781311120</td>\n",
       "      <td>1458</td>\n",
       "      <td>235.576831</td>\n",
       "      <td>1.080069</td>\n",
       "      <td>301</td>\n",
       "      <td>2</td>\n",
       "      <td>740</td>\n",
       "      <td>0.483796</td>\n",
       "      <td>0.000133</td>\n",
       "      <td>0.987806</td>\n",
       "      <td>lt_1</td>\n",
       "      <td>frame-x-001458-2-0740.fits.bz2</td>\n",
       "      <td>https://data.sdss.org/sas/dr18/prior-surveys/s...</td>\n",
       "    </tr>\n",
       "    <tr>\n",
       "      <th>74998</th>\n",
       "      <td>1237657776075309384</td>\n",
       "      <td>2864</td>\n",
       "      <td>124.699870</td>\n",
       "      <td>33.793572</td>\n",
       "      <td>301</td>\n",
       "      <td>5</td>\n",
       "      <td>120</td>\n",
       "      <td>0.341019</td>\n",
       "      <td>0.000115</td>\n",
       "      <td>1.273077</td>\n",
       "      <td>lt_1</td>\n",
       "      <td>frame-x-002864-5-0120.fits.bz2</td>\n",
       "      <td>https://data.sdss.org/sas/dr18/prior-surveys/s...</td>\n",
       "    </tr>\n",
       "    <tr>\n",
       "      <th>74999</th>\n",
       "      <td>1237656971302273542</td>\n",
       "      <td>2677</td>\n",
       "      <td>13.508477</td>\n",
       "      <td>-0.537872</td>\n",
       "      <td>301</td>\n",
       "      <td>2</td>\n",
       "      <td>66</td>\n",
       "      <td>0.570383</td>\n",
       "      <td>0.000171</td>\n",
       "      <td>0.983171</td>\n",
       "      <td>lt_1</td>\n",
       "      <td>frame-x-002677-2-0066.fits.bz2</td>\n",
       "      <td>https://data.sdss.org/sas/dr18/prior-surveys/s...</td>\n",
       "    </tr>\n",
       "  </tbody>\n",
       "</table>\n",
       "<p>75000 rows × 13 columns</p>\n",
       "</div>"
      ],
      "text/plain": [
       "                     objID   run          ra        dec  rerun  camcol  field  \\\n",
       "0      1237653009194091114  1754  316.804643  11.133585    301       6     53   \n",
       "1      1237656539123744894  2576  337.223428  -8.332351    301       5    105   \n",
       "2      1237661362379096252  3699  224.340306  40.781655    301       5    213   \n",
       "3      1237655129307283754  2248  255.814784  34.476342    301       3    205   \n",
       "4      1237655497601581344  2334  228.572001  -2.706987    301       1    218   \n",
       "...                    ...   ...         ...        ...    ...     ...    ...   \n",
       "74995  1237660411038859590  3478  136.975599   5.738607    301       1    137   \n",
       "74996  1237656528920707267  2574  262.594115  55.826540    301       2     67   \n",
       "74997  1237651735781311120  1458  235.576831   1.080069    301       2    740   \n",
       "74998  1237657776075309384  2864  124.699870  33.793572    301       5    120   \n",
       "74999  1237656971302273542  2677   13.508477  -0.537872    301       2     66   \n",
       "\n",
       "              z      zErr     rChi2 z_range                       filenames  \\\n",
       "0      0.104385  0.000014  1.120883    lt_1  frame-x-001754-6-0053.fits.bz2   \n",
       "1      0.104736  0.000007  1.297741    lt_1  frame-x-002576-5-0105.fits.bz2   \n",
       "2      0.106243  0.000027  0.960538    lt_1  frame-x-003699-5-0213.fits.bz2   \n",
       "3      0.100582  0.000021  0.973104    lt_1  frame-x-002248-3-0205.fits.bz2   \n",
       "4      0.104726  0.000037  0.939577    lt_1  frame-x-002334-1-0218.fits.bz2   \n",
       "...         ...       ...       ...     ...                             ...   \n",
       "74995  0.265376  0.000038  0.984898    lt_1  frame-x-003478-1-0137.fits.bz2   \n",
       "74996  0.370555  0.000067  1.176818    lt_1  frame-x-002574-2-0067.fits.bz2   \n",
       "74997  0.483796  0.000133  0.987806    lt_1  frame-x-001458-2-0740.fits.bz2   \n",
       "74998  0.341019  0.000115  1.273077    lt_1  frame-x-002864-5-0120.fits.bz2   \n",
       "74999  0.570383  0.000171  0.983171    lt_1  frame-x-002677-2-0066.fits.bz2   \n",
       "\n",
       "                                                fits_url  \n",
       "0      https://data.sdss.org/sas/dr18/prior-surveys/s...  \n",
       "1      https://data.sdss.org/sas/dr18/prior-surveys/s...  \n",
       "2      https://data.sdss.org/sas/dr18/prior-surveys/s...  \n",
       "3      https://data.sdss.org/sas/dr18/prior-surveys/s...  \n",
       "4      https://data.sdss.org/sas/dr18/prior-surveys/s...  \n",
       "...                                                  ...  \n",
       "74995  https://data.sdss.org/sas/dr18/prior-surveys/s...  \n",
       "74996  https://data.sdss.org/sas/dr18/prior-surveys/s...  \n",
       "74997  https://data.sdss.org/sas/dr18/prior-surveys/s...  \n",
       "74998  https://data.sdss.org/sas/dr18/prior-surveys/s...  \n",
       "74999  https://data.sdss.org/sas/dr18/prior-surveys/s...  \n",
       "\n",
       "[75000 rows x 13 columns]"
      ]
     },
     "execution_count": 21,
     "metadata": {},
     "output_type": "execute_result"
    }
   ],
   "source": [
    "data"
   ]
  },
  {
   "cell_type": "code",
   "execution_count": 24,
   "metadata": {},
   "outputs": [
    {
     "data": {
      "text/plain": [
       "0        frame-x-001754-6-0053.fits.bz2\n",
       "1        frame-x-002576-5-0105.fits.bz2\n",
       "2        frame-x-003699-5-0213.fits.bz2\n",
       "3        frame-x-002248-3-0205.fits.bz2\n",
       "4        frame-x-002334-1-0218.fits.bz2\n",
       "                      ...              \n",
       "51893    frame-x-001737-3-0059.fits.bz2\n",
       "51894    frame-x-001412-3-0377.fits.bz2\n",
       "51895    frame-x-001462-2-0467.fits.bz2\n",
       "51896    frame-x-001659-4-0171.fits.bz2\n",
       "51897    frame-x-002677-2-0066.fits.bz2\n",
       "Name: filenames, Length: 51898, dtype: object"
      ]
     },
     "execution_count": 24,
     "metadata": {},
     "output_type": "execute_result"
    }
   ],
   "source": [
    "data[\"filenames\"].drop_duplicates().reset_index(drop=True)"
   ]
  },
  {
   "cell_type": "code",
   "execution_count": 25,
   "metadata": {},
   "outputs": [
    {
     "data": {
      "text/plain": [
       "True"
      ]
     },
     "execution_count": 25,
     "metadata": {},
     "output_type": "execute_result"
    }
   ],
   "source": [
    "all(data[\"filenames\"].drop_duplicates().reset_index(drop=True) ==  file_names_common) # Veirfied that the filenames are the same"
   ]
  },
  {
   "cell_type": "code",
   "execution_count": 30,
   "metadata": {},
   "outputs": [
    {
     "data": {
      "text/plain": [
       "0       frame-x-002864-6-0165.fits.bz2\n",
       "1       frame-x-002506-5-0053.fits.bz2\n",
       "2       frame-x-002964-2-0313.fits.bz2\n",
       "3       frame-x-003650-3-0063.fits.bz2\n",
       "4       frame-x-002074-4-0150.fits.bz2\n",
       "                     ...              \n",
       "5235    frame-x-001462-3-0249.fits.bz2\n",
       "5236    frame-x-001412-6-0268.fits.bz2\n",
       "5237    frame-x-001231-6-0184.fits.bz2\n",
       "5238    frame-x-002507-5-0262.fits.bz2\n",
       "5239    frame-x-001458-2-0702.fits.bz2\n",
       "Name: file_path, Length: 5240, dtype: object"
      ]
     },
     "execution_count": 30,
     "metadata": {},
     "output_type": "execute_result"
    }
   ],
   "source": [
    "downloaded_names_common"
   ]
  },
  {
   "cell_type": "code",
   "execution_count": 31,
   "metadata": {},
   "outputs": [
    {
     "name": "stderr",
     "output_type": "stream",
     "text": [
      "/var/folders/mm/5g2ls_1s6wj8wnbyd7cdqt640000gn/T/ipykernel_61391/507304405.py:2: FutureWarning: ChainedAssignmentError: behaviour will change in pandas 3.0!\n",
      "You are setting values through chained assignment. Currently this works in certain cases, but when using Copy-on-Write (which will become the default behaviour in pandas 3.0) this will never work to update the original DataFrame or Series, because the intermediate object on which we are setting values will behave as a copy.\n",
      "A typical example is when you are setting values in a column of a DataFrame, like:\n",
      "\n",
      "df[\"col\"][row_indexer] = value\n",
      "\n",
      "Use `df.loc[row_indexer, \"col\"] = values` instead, to perform the assignment in a single step and ensure this keeps updating the original `df`.\n",
      "\n",
      "See the caveats in the documentation: https://pandas.pydata.org/pandas-docs/stable/user_guide/indexing.html#returning-a-view-versus-a-copy\n",
      "\n",
      "  data[\"file_downloaded\"][data[\"filenames\"].isin(downloaded_names_common)] = 1\n",
      "/var/folders/mm/5g2ls_1s6wj8wnbyd7cdqt640000gn/T/ipykernel_61391/507304405.py:2: SettingWithCopyWarning: \n",
      "A value is trying to be set on a copy of a slice from a DataFrame\n",
      "\n",
      "See the caveats in the documentation: https://pandas.pydata.org/pandas-docs/stable/user_guide/indexing.html#returning-a-view-versus-a-copy\n",
      "  data[\"file_downloaded\"][data[\"filenames\"].isin(downloaded_names_common)] = 1\n"
     ]
    }
   ],
   "source": [
    "data[\"file_downloaded\"] = 0\n",
    "data[\"file_downloaded\"][data[\"filenames\"].isin(downloaded_names_common)] = 1"
   ]
  },
  {
   "cell_type": "code",
   "execution_count": 35,
   "metadata": {},
   "outputs": [
    {
     "data": {
      "text/plain": [
       "(5240,)"
      ]
     },
     "execution_count": 35,
     "metadata": {},
     "output_type": "execute_result"
    }
   ],
   "source": [
    "data[data[\"file_downloaded\"] == 1][\"filenames\"].unique().shape"
   ]
  },
  {
   "cell_type": "code",
   "execution_count": 36,
   "metadata": {},
   "outputs": [
    {
     "data": {
      "text/plain": [
       "(5240,)"
      ]
     },
     "execution_count": 36,
     "metadata": {},
     "output_type": "execute_result"
    }
   ],
   "source": [
    "downloaded_names_common.shape"
   ]
  },
  {
   "cell_type": "code",
   "execution_count": 37,
   "metadata": {},
   "outputs": [],
   "source": [
    "data.to_csv('first75k_dataset.csv')"
   ]
  },
  {
   "cell_type": "code",
   "execution_count": null,
   "metadata": {},
   "outputs": [],
   "source": [
    "data.to_csv('first75k_dataset_remaining.csv')"
   ]
  },
  {
   "cell_type": "markdown",
   "metadata": {},
   "source": [
    "---"
   ]
  },
  {
   "cell_type": "code",
   "execution_count": 14,
   "metadata": {},
   "outputs": [
    {
     "data": {
      "text/html": [
       "<div>\n",
       "<style scoped>\n",
       "    .dataframe tbody tr th:only-of-type {\n",
       "        vertical-align: middle;\n",
       "    }\n",
       "\n",
       "    .dataframe tbody tr th {\n",
       "        vertical-align: top;\n",
       "    }\n",
       "\n",
       "    .dataframe thead th {\n",
       "        text-align: right;\n",
       "    }\n",
       "</style>\n",
       "<table border=\"1\" class=\"dataframe\">\n",
       "  <thead>\n",
       "    <tr style=\"text-align: right;\">\n",
       "      <th></th>\n",
       "      <th>file_path</th>\n",
       "    </tr>\n",
       "  </thead>\n",
       "  <tbody>\n",
       "    <tr>\n",
       "      <th>0</th>\n",
       "      <td>batch_5610/frame-i-002864-6-0165.fits.bz2,</td>\n",
       "    </tr>\n",
       "    <tr>\n",
       "      <th>1</th>\n",
       "      <td>batch_5610/frame-z-002506-5-0053.fits.bz2,</td>\n",
       "    </tr>\n",
       "    <tr>\n",
       "      <th>2</th>\n",
       "      <td>batch_5610/frame-i-002964-2-0313.fits.bz2,</td>\n",
       "    </tr>\n",
       "    <tr>\n",
       "      <th>3</th>\n",
       "      <td>batch_5610/frame-z-003650-3-0063.fits.bz2,</td>\n",
       "    </tr>\n",
       "    <tr>\n",
       "      <th>4</th>\n",
       "      <td>batch_5610/frame-z-002074-4-0150.fits.bz2,</td>\n",
       "    </tr>\n",
       "    <tr>\n",
       "      <th>...</th>\n",
       "      <td>...</td>\n",
       "    </tr>\n",
       "    <tr>\n",
       "      <th>26089</th>\n",
       "      <td>batch_3410/frame-u-001350-2-0339.fits.bz2,</td>\n",
       "    </tr>\n",
       "    <tr>\n",
       "      <th>26090</th>\n",
       "      <td>batch_3410/frame-u-003015-4-0397.fits.bz2,</td>\n",
       "    </tr>\n",
       "    <tr>\n",
       "      <th>26091</th>\n",
       "      <td>batch_3410/frame-u-002964-4-0452.fits.bz2,</td>\n",
       "    </tr>\n",
       "    <tr>\n",
       "      <th>26092</th>\n",
       "      <td>batch_3410/frame-u-003631-6-0378.fits.bz2,</td>\n",
       "    </tr>\n",
       "    <tr>\n",
       "      <th>26093</th>\n",
       "      <td>batch_3410/frame-u-001659-1-0032.fits.bz2,</td>\n",
       "    </tr>\n",
       "  </tbody>\n",
       "</table>\n",
       "<p>26094 rows × 1 columns</p>\n",
       "</div>"
      ],
      "text/plain": [
       "                                        file_path\n",
       "0      batch_5610/frame-i-002864-6-0165.fits.bz2,\n",
       "1      batch_5610/frame-z-002506-5-0053.fits.bz2,\n",
       "2      batch_5610/frame-i-002964-2-0313.fits.bz2,\n",
       "3      batch_5610/frame-z-003650-3-0063.fits.bz2,\n",
       "4      batch_5610/frame-z-002074-4-0150.fits.bz2,\n",
       "...                                           ...\n",
       "26089  batch_3410/frame-u-001350-2-0339.fits.bz2,\n",
       "26090  batch_3410/frame-u-003015-4-0397.fits.bz2,\n",
       "26091  batch_3410/frame-u-002964-4-0452.fits.bz2,\n",
       "26092  batch_3410/frame-u-003631-6-0378.fits.bz2,\n",
       "26093  batch_3410/frame-u-001659-1-0032.fits.bz2,\n",
       "\n",
       "[26094 rows x 1 columns]"
      ]
     },
     "execution_count": 14,
     "metadata": {},
     "output_type": "execute_result"
    }
   ],
   "source": [
    "downloaded_files"
   ]
  },
  {
   "cell_type": "code",
   "execution_count": 19,
   "metadata": {},
   "outputs": [],
   "source": [
    "all_files = downloaded_files[\"file_path\"].to_list()\n",
    "i_list = [i[:-1] for i in downloaded_files[\"file_path\"].to_list() if \"frame-i-\" in i]\n",
    "g_list = [i[:-1] for i in downloaded_files[\"file_path\"].to_list() if \"frame-g-\" in i]\n",
    "r_list = [i[:-1] for i in downloaded_files[\"file_path\"].to_list() if \"frame-r-\" in i]\n",
    "u_list = [i[:-1] for i in downloaded_files[\"file_path\"].to_list() if \"frame-u-\" in i]\n",
    "z_list = [i[:-1] for i in downloaded_files[\"file_path\"].to_list() if \"frame-z-\" in i]"
   ]
  },
  {
   "cell_type": "code",
   "execution_count": 20,
   "metadata": {},
   "outputs": [
    {
     "data": {
      "text/plain": [
       "(5199, 5240, 5237, 5190, 5228)"
      ]
     },
     "execution_count": 20,
     "metadata": {},
     "output_type": "execute_result"
    }
   ],
   "source": [
    "len(i_list), len(g_list), len(r_list), len(u_list), len(z_list)"
   ]
  },
  {
   "cell_type": "code",
   "execution_count": 21,
   "metadata": {},
   "outputs": [],
   "source": [
    "for x_list, x in zip([i_list, g_list, r_list, u_list, z_list], ['i', 'g', 'r', 'u', 'z']):\n",
    "    with open(f\"drive_paths/{x}.txt\", \"w\") as file:\n",
    "        for i in x_list:\n",
    "            file.write(i + \"\\n\")"
   ]
  }
 ],
 "metadata": {
  "kernelspec": {
   "display_name": "hermes",
   "language": "python",
   "name": "python3"
  },
  "language_info": {
   "codemirror_mode": {
    "name": "ipython",
    "version": 3
   },
   "file_extension": ".py",
   "mimetype": "text/x-python",
   "name": "python",
   "nbconvert_exporter": "python",
   "pygments_lexer": "ipython3",
   "version": "3.11.9"
  }
 },
 "nbformat": 4,
 "nbformat_minor": 2
}
