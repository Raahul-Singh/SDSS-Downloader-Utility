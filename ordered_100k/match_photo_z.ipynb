{
 "cells": [
  {
   "cell_type": "code",
   "execution_count": 1,
   "metadata": {},
   "outputs": [],
   "source": [
    "import pandas as pd"
   ]
  },
  {
   "cell_type": "code",
   "execution_count": 2,
   "metadata": {},
   "outputs": [],
   "source": [
    "ordered_data = pd.read_csv('Skyserver_SQL8_22_2024_8_39_07_PM.csv', low_memory=False, skiprows=1)\n",
    "ordered_data_with_photo_z = pd.read_csv('skyserver_big.csv', low_memory=False, skiprows=1)"
   ]
  },
  {
   "cell_type": "code",
   "execution_count": 3,
   "metadata": {},
   "outputs": [
    {
     "data": {
      "text/plain": [
       "(500000, 11)"
      ]
     },
     "execution_count": 3,
     "metadata": {},
     "output_type": "execute_result"
    }
   ],
   "source": [
    "ordered_data_with_photo_z.shape"
   ]
  },
  {
   "cell_type": "code",
   "execution_count": 7,
   "metadata": {},
   "outputs": [
    {
     "data": {
      "text/html": [
       "<div>\n",
       "<style scoped>\n",
       "    .dataframe tbody tr th:only-of-type {\n",
       "        vertical-align: middle;\n",
       "    }\n",
       "\n",
       "    .dataframe tbody tr th {\n",
       "        vertical-align: top;\n",
       "    }\n",
       "\n",
       "    .dataframe thead th {\n",
       "        text-align: right;\n",
       "    }\n",
       "</style>\n",
       "<table border=\"1\" class=\"dataframe\">\n",
       "  <thead>\n",
       "    <tr style=\"text-align: right;\">\n",
       "      <th></th>\n",
       "      <th>objID</th>\n",
       "      <th>run</th>\n",
       "      <th>ra</th>\n",
       "      <th>dec</th>\n",
       "      <th>rerun</th>\n",
       "      <th>camcol</th>\n",
       "      <th>field</th>\n",
       "      <th>z</th>\n",
       "      <th>zErr</th>\n",
       "      <th>template_photo_z</th>\n",
       "      <th>template_photo_zErr</th>\n",
       "    </tr>\n",
       "  </thead>\n",
       "  <tbody>\n",
       "    <tr>\n",
       "      <th>0</th>\n",
       "      <td>1237645879551000764</td>\n",
       "      <td>94</td>\n",
       "      <td>348.841087</td>\n",
       "      <td>1.268802</td>\n",
       "      <td>301</td>\n",
       "      <td>6</td>\n",
       "      <td>93</td>\n",
       "      <td>0.399661</td>\n",
       "      <td>0.000078</td>\n",
       "      <td>0.378505</td>\n",
       "      <td>0.041041</td>\n",
       "    </tr>\n",
       "    <tr>\n",
       "      <th>1</th>\n",
       "      <td>1237645879562928805</td>\n",
       "      <td>94</td>\n",
       "      <td>16.026029</td>\n",
       "      <td>1.266772</td>\n",
       "      <td>301</td>\n",
       "      <td>6</td>\n",
       "      <td>275</td>\n",
       "      <td>0.752730</td>\n",
       "      <td>0.000267</td>\n",
       "      <td>0.679374</td>\n",
       "      <td>0.068663</td>\n",
       "    </tr>\n",
       "    <tr>\n",
       "      <th>2</th>\n",
       "      <td>1237645879573873373</td>\n",
       "      <td>94</td>\n",
       "      <td>41.019613</td>\n",
       "      <td>1.271279</td>\n",
       "      <td>301</td>\n",
       "      <td>6</td>\n",
       "      <td>442</td>\n",
       "      <td>0.504868</td>\n",
       "      <td>0.000213</td>\n",
       "      <td>0.487843</td>\n",
       "      <td>0.041076</td>\n",
       "    </tr>\n",
       "    <tr>\n",
       "      <th>3</th>\n",
       "      <td>1237645941824356668</td>\n",
       "      <td>109</td>\n",
       "      <td>40.277836</td>\n",
       "      <td>-0.777074</td>\n",
       "      <td>301</td>\n",
       "      <td>2</td>\n",
       "      <td>37</td>\n",
       "      <td>0.366744</td>\n",
       "      <td>0.000062</td>\n",
       "      <td>0.335330</td>\n",
       "      <td>0.085458</td>\n",
       "    </tr>\n",
       "    <tr>\n",
       "      <th>4</th>\n",
       "      <td>1237645941824357025</td>\n",
       "      <td>109</td>\n",
       "      <td>40.284751</td>\n",
       "      <td>-0.767711</td>\n",
       "      <td>301</td>\n",
       "      <td>2</td>\n",
       "      <td>37</td>\n",
       "      <td>0.626599</td>\n",
       "      <td>0.000152</td>\n",
       "      <td>0.613922</td>\n",
       "      <td>0.042154</td>\n",
       "    </tr>\n",
       "    <tr>\n",
       "      <th>...</th>\n",
       "      <td>...</td>\n",
       "      <td>...</td>\n",
       "      <td>...</td>\n",
       "      <td>...</td>\n",
       "      <td>...</td>\n",
       "      <td>...</td>\n",
       "      <td>...</td>\n",
       "      <td>...</td>\n",
       "      <td>...</td>\n",
       "      <td>...</td>\n",
       "      <td>...</td>\n",
       "    </tr>\n",
       "    <tr>\n",
       "      <th>499995</th>\n",
       "      <td>1237661381695439435</td>\n",
       "      <td>3704</td>\n",
       "      <td>138.427231</td>\n",
       "      <td>30.873541</td>\n",
       "      <td>301</td>\n",
       "      <td>1</td>\n",
       "      <td>45</td>\n",
       "      <td>0.865179</td>\n",
       "      <td>0.000043</td>\n",
       "      <td>0.634326</td>\n",
       "      <td>0.181944</td>\n",
       "    </tr>\n",
       "    <tr>\n",
       "      <th>499996</th>\n",
       "      <td>1237661381695439511</td>\n",
       "      <td>3704</td>\n",
       "      <td>138.484067</td>\n",
       "      <td>30.847163</td>\n",
       "      <td>301</td>\n",
       "      <td>1</td>\n",
       "      <td>45</td>\n",
       "      <td>0.614904</td>\n",
       "      <td>0.000167</td>\n",
       "      <td>0.535190</td>\n",
       "      <td>0.038932</td>\n",
       "    </tr>\n",
       "    <tr>\n",
       "      <th>499997</th>\n",
       "      <td>1237661381695439677</td>\n",
       "      <td>3704</td>\n",
       "      <td>138.499647</td>\n",
       "      <td>30.937457</td>\n",
       "      <td>301</td>\n",
       "      <td>1</td>\n",
       "      <td>45</td>\n",
       "      <td>0.870894</td>\n",
       "      <td>0.000115</td>\n",
       "      <td>0.569975</td>\n",
       "      <td>0.170213</td>\n",
       "    </tr>\n",
       "    <tr>\n",
       "      <th>499998</th>\n",
       "      <td>1237661381695439774</td>\n",
       "      <td>3704</td>\n",
       "      <td>138.485624</td>\n",
       "      <td>31.017814</td>\n",
       "      <td>301</td>\n",
       "      <td>1</td>\n",
       "      <td>45</td>\n",
       "      <td>0.678025</td>\n",
       "      <td>0.000108</td>\n",
       "      <td>0.466289</td>\n",
       "      <td>0.093609</td>\n",
       "    </tr>\n",
       "    <tr>\n",
       "      <th>499999</th>\n",
       "      <td>1237661381695439888</td>\n",
       "      <td>3704</td>\n",
       "      <td>138.415864</td>\n",
       "      <td>30.907460</td>\n",
       "      <td>301</td>\n",
       "      <td>1</td>\n",
       "      <td>45</td>\n",
       "      <td>0.632688</td>\n",
       "      <td>0.000175</td>\n",
       "      <td>0.568042</td>\n",
       "      <td>0.035869</td>\n",
       "    </tr>\n",
       "  </tbody>\n",
       "</table>\n",
       "<p>500000 rows × 11 columns</p>\n",
       "</div>"
      ],
      "text/plain": [
       "                      objID   run          ra        dec  rerun  camcol  \\\n",
       "0       1237645879551000764    94  348.841087   1.268802    301       6   \n",
       "1       1237645879562928805    94   16.026029   1.266772    301       6   \n",
       "2       1237645879573873373    94   41.019613   1.271279    301       6   \n",
       "3       1237645941824356668   109   40.277836  -0.777074    301       2   \n",
       "4       1237645941824357025   109   40.284751  -0.767711    301       2   \n",
       "...                     ...   ...         ...        ...    ...     ...   \n",
       "499995  1237661381695439435  3704  138.427231  30.873541    301       1   \n",
       "499996  1237661381695439511  3704  138.484067  30.847163    301       1   \n",
       "499997  1237661381695439677  3704  138.499647  30.937457    301       1   \n",
       "499998  1237661381695439774  3704  138.485624  31.017814    301       1   \n",
       "499999  1237661381695439888  3704  138.415864  30.907460    301       1   \n",
       "\n",
       "        field         z      zErr  template_photo_z  template_photo_zErr  \n",
       "0          93  0.399661  0.000078          0.378505             0.041041  \n",
       "1         275  0.752730  0.000267          0.679374             0.068663  \n",
       "2         442  0.504868  0.000213          0.487843             0.041076  \n",
       "3          37  0.366744  0.000062          0.335330             0.085458  \n",
       "4          37  0.626599  0.000152          0.613922             0.042154  \n",
       "...       ...       ...       ...               ...                  ...  \n",
       "499995     45  0.865179  0.000043          0.634326             0.181944  \n",
       "499996     45  0.614904  0.000167          0.535190             0.038932  \n",
       "499997     45  0.870894  0.000115          0.569975             0.170213  \n",
       "499998     45  0.678025  0.000108          0.466289             0.093609  \n",
       "499999     45  0.632688  0.000175          0.568042             0.035869  \n",
       "\n",
       "[500000 rows x 11 columns]"
      ]
     },
     "execution_count": 7,
     "metadata": {},
     "output_type": "execute_result"
    }
   ],
   "source": [
    "ordered_data_with_photo_z"
   ]
  },
  {
   "cell_type": "code",
   "execution_count": 4,
   "metadata": {},
   "outputs": [
    {
     "data": {
      "text/plain": [
       "0    1237645879551000764\n",
       "1    1237645879562928805\n",
       "2    1237645879573873373\n",
       "3    1237645941824356668\n",
       "4    1237645941824357025\n",
       "Name: objID, dtype: int64"
      ]
     },
     "execution_count": 4,
     "metadata": {},
     "output_type": "execute_result"
    }
   ],
   "source": [
    "ordered_data_with_photo_z[\"objID\"].head()"
   ]
  },
  {
   "cell_type": "code",
   "execution_count": 5,
   "metadata": {},
   "outputs": [
    {
     "data": {
      "text/html": [
       "<div>\n",
       "<style scoped>\n",
       "    .dataframe tbody tr th:only-of-type {\n",
       "        vertical-align: middle;\n",
       "    }\n",
       "\n",
       "    .dataframe tbody tr th {\n",
       "        vertical-align: top;\n",
       "    }\n",
       "\n",
       "    .dataframe thead th {\n",
       "        text-align: right;\n",
       "    }\n",
       "</style>\n",
       "<table border=\"1\" class=\"dataframe\">\n",
       "  <thead>\n",
       "    <tr style=\"text-align: right;\">\n",
       "      <th></th>\n",
       "      <th>objID</th>\n",
       "      <th>run</th>\n",
       "      <th>ra</th>\n",
       "      <th>dec</th>\n",
       "      <th>rerun</th>\n",
       "      <th>camcol</th>\n",
       "      <th>field</th>\n",
       "      <th>z</th>\n",
       "      <th>zErr</th>\n",
       "      <th>rChi2</th>\n",
       "    </tr>\n",
       "  </thead>\n",
       "  <tbody>\n",
       "    <tr>\n",
       "      <th>0</th>\n",
       "      <td>1237645879551000764</td>\n",
       "      <td>94</td>\n",
       "      <td>348.841087</td>\n",
       "      <td>1.268802</td>\n",
       "      <td>301</td>\n",
       "      <td>6</td>\n",
       "      <td>93</td>\n",
       "      <td>0.399661</td>\n",
       "      <td>0.000078</td>\n",
       "      <td>0.930373</td>\n",
       "    </tr>\n",
       "    <tr>\n",
       "      <th>1</th>\n",
       "      <td>1237645879562928805</td>\n",
       "      <td>94</td>\n",
       "      <td>16.026029</td>\n",
       "      <td>1.266772</td>\n",
       "      <td>301</td>\n",
       "      <td>6</td>\n",
       "      <td>275</td>\n",
       "      <td>0.752730</td>\n",
       "      <td>0.000267</td>\n",
       "      <td>0.968836</td>\n",
       "    </tr>\n",
       "    <tr>\n",
       "      <th>2</th>\n",
       "      <td>1237645879573873373</td>\n",
       "      <td>94</td>\n",
       "      <td>41.019613</td>\n",
       "      <td>1.271279</td>\n",
       "      <td>301</td>\n",
       "      <td>6</td>\n",
       "      <td>442</td>\n",
       "      <td>0.504868</td>\n",
       "      <td>0.000213</td>\n",
       "      <td>1.079847</td>\n",
       "    </tr>\n",
       "    <tr>\n",
       "      <th>3</th>\n",
       "      <td>1237645941824356668</td>\n",
       "      <td>109</td>\n",
       "      <td>40.277836</td>\n",
       "      <td>-0.777074</td>\n",
       "      <td>301</td>\n",
       "      <td>2</td>\n",
       "      <td>37</td>\n",
       "      <td>0.366744</td>\n",
       "      <td>0.000062</td>\n",
       "      <td>0.914766</td>\n",
       "    </tr>\n",
       "    <tr>\n",
       "      <th>4</th>\n",
       "      <td>1237645941824357025</td>\n",
       "      <td>109</td>\n",
       "      <td>40.284751</td>\n",
       "      <td>-0.767711</td>\n",
       "      <td>301</td>\n",
       "      <td>2</td>\n",
       "      <td>37</td>\n",
       "      <td>0.626599</td>\n",
       "      <td>0.000152</td>\n",
       "      <td>1.000537</td>\n",
       "    </tr>\n",
       "  </tbody>\n",
       "</table>\n",
       "</div>"
      ],
      "text/plain": [
       "                 objID  run          ra       dec  rerun  camcol  field  \\\n",
       "0  1237645879551000764   94  348.841087  1.268802    301       6     93   \n",
       "1  1237645879562928805   94   16.026029  1.266772    301       6    275   \n",
       "2  1237645879573873373   94   41.019613  1.271279    301       6    442   \n",
       "3  1237645941824356668  109   40.277836 -0.777074    301       2     37   \n",
       "4  1237645941824357025  109   40.284751 -0.767711    301       2     37   \n",
       "\n",
       "          z      zErr     rChi2  \n",
       "0  0.399661  0.000078  0.930373  \n",
       "1  0.752730  0.000267  0.968836  \n",
       "2  0.504868  0.000213  1.079847  \n",
       "3  0.366744  0.000062  0.914766  \n",
       "4  0.626599  0.000152  1.000537  "
      ]
     },
     "execution_count": 5,
     "metadata": {},
     "output_type": "execute_result"
    }
   ],
   "source": [
    "ordered_data.head()"
   ]
  },
  {
   "cell_type": "code",
   "execution_count": 6,
   "metadata": {},
   "outputs": [],
   "source": [
    "# set(ordered_data[\"objID\"])"
   ]
  },
  {
   "cell_type": "code",
   "execution_count": 6,
   "metadata": {},
   "outputs": [
    {
     "data": {
      "text/plain": [
       "6852"
      ]
     },
     "execution_count": 6,
     "metadata": {},
     "output_type": "execute_result"
    }
   ],
   "source": [
    "len(set(ordered_data[\"objID\"]).difference(set(ordered_data_with_photo_z[\"objID\"])))"
   ]
  },
  {
   "cell_type": "code",
   "execution_count": 9,
   "metadata": {},
   "outputs": [],
   "source": [
    "ordered_data[\"template_photo_z\"] = -42\n",
    "ordered_data[\"template_photo_zErr\"] = -42"
   ]
  },
  {
   "cell_type": "code",
   "execution_count": 11,
   "metadata": {},
   "outputs": [],
   "source": [
    "common_objIDs = set(ordered_data[\"objID\"]).intersection(set(ordered_data_with_photo_z[\"objID\"]))"
   ]
  },
  {
   "cell_type": "code",
   "execution_count": 12,
   "metadata": {},
   "outputs": [
    {
     "data": {
      "text/plain": [
       "93148"
      ]
     },
     "execution_count": 12,
     "metadata": {},
     "output_type": "execute_result"
    }
   ],
   "source": [
    "len(common_objIDs)"
   ]
  },
  {
   "cell_type": "code",
   "execution_count": 14,
   "metadata": {},
   "outputs": [],
   "source": [
    "ordered_data_with_photo_z[ordered_data_with_photo_z[\"objID\"].isin(common_objIDs)].to_csv('data_with_photo_z.csv')"
   ]
  }
 ],
 "metadata": {
  "kernelspec": {
   "display_name": "hermes",
   "language": "python",
   "name": "python3"
  },
  "language_info": {
   "codemirror_mode": {
    "name": "ipython",
    "version": 3
   },
   "file_extension": ".py",
   "mimetype": "text/x-python",
   "name": "python",
   "nbconvert_exporter": "python",
   "pygments_lexer": "ipython3",
   "version": "3.11.9"
  }
 },
 "nbformat": 4,
 "nbformat_minor": 2
}
