{
 "cells": [
  {
   "cell_type": "code",
   "execution_count": 8,
   "metadata": {},
   "outputs": [],
   "source": [
    "import pandas as pd"
   ]
  },
  {
   "cell_type": "code",
   "execution_count": 11,
   "metadata": {},
   "outputs": [],
   "source": [
    "data = pd.read_csv(\"data_lt_1.csv\")"
   ]
  },
  {
   "cell_type": "code",
   "execution_count": 12,
   "metadata": {},
   "outputs": [
    {
     "data": {
      "text/html": [
       "<div>\n",
       "<style scoped>\n",
       "    .dataframe tbody tr th:only-of-type {\n",
       "        vertical-align: middle;\n",
       "    }\n",
       "\n",
       "    .dataframe tbody tr th {\n",
       "        vertical-align: top;\n",
       "    }\n",
       "\n",
       "    .dataframe thead th {\n",
       "        text-align: right;\n",
       "    }\n",
       "</style>\n",
       "<table border=\"1\" class=\"dataframe\">\n",
       "  <thead>\n",
       "    <tr style=\"text-align: right;\">\n",
       "      <th></th>\n",
       "      <th>objID</th>\n",
       "      <th>run</th>\n",
       "      <th>ra</th>\n",
       "      <th>dec</th>\n",
       "      <th>rerun</th>\n",
       "      <th>camcol</th>\n",
       "      <th>field</th>\n",
       "      <th>z</th>\n",
       "      <th>zErr</th>\n",
       "      <th>rChi2</th>\n",
       "      <th>z_range</th>\n",
       "    </tr>\n",
       "  </thead>\n",
       "  <tbody>\n",
       "    <tr>\n",
       "      <th>0</th>\n",
       "      <td>1237645942905504034</td>\n",
       "      <td>109</td>\n",
       "      <td>57.089447</td>\n",
       "      <td>0.136492</td>\n",
       "      <td>301</td>\n",
       "      <td>4</td>\n",
       "      <td>150</td>\n",
       "      <td>0.166690</td>\n",
       "      <td>0.000006</td>\n",
       "      <td>1.315279</td>\n",
       "      <td>lt_1</td>\n",
       "    </tr>\n",
       "    <tr>\n",
       "      <th>1</th>\n",
       "      <td>1237645942905569679</td>\n",
       "      <td>109</td>\n",
       "      <td>57.229650</td>\n",
       "      <td>0.014525</td>\n",
       "      <td>301</td>\n",
       "      <td>4</td>\n",
       "      <td>151</td>\n",
       "      <td>0.499967</td>\n",
       "      <td>0.000116</td>\n",
       "      <td>1.168734</td>\n",
       "      <td>lt_1</td>\n",
       "    </tr>\n",
       "    <tr>\n",
       "      <th>2</th>\n",
       "      <td>1237645942905635226</td>\n",
       "      <td>109</td>\n",
       "      <td>57.380089</td>\n",
       "      <td>0.130207</td>\n",
       "      <td>301</td>\n",
       "      <td>4</td>\n",
       "      <td>152</td>\n",
       "      <td>0.173202</td>\n",
       "      <td>0.000011</td>\n",
       "      <td>1.142100</td>\n",
       "      <td>lt_1</td>\n",
       "    </tr>\n",
       "    <tr>\n",
       "      <th>3</th>\n",
       "      <td>1237645942906028179</td>\n",
       "      <td>109</td>\n",
       "      <td>58.387196</td>\n",
       "      <td>0.065393</td>\n",
       "      <td>301</td>\n",
       "      <td>4</td>\n",
       "      <td>158</td>\n",
       "      <td>0.198512</td>\n",
       "      <td>0.000007</td>\n",
       "      <td>2.942970</td>\n",
       "      <td>lt_1</td>\n",
       "    </tr>\n",
       "    <tr>\n",
       "      <th>4</th>\n",
       "      <td>1237645942906028440</td>\n",
       "      <td>109</td>\n",
       "      <td>58.323072</td>\n",
       "      <td>0.121538</td>\n",
       "      <td>301</td>\n",
       "      <td>4</td>\n",
       "      <td>158</td>\n",
       "      <td>0.368695</td>\n",
       "      <td>0.000141</td>\n",
       "      <td>1.485770</td>\n",
       "      <td>lt_1</td>\n",
       "    </tr>\n",
       "    <tr>\n",
       "      <th>...</th>\n",
       "      <td>...</td>\n",
       "      <td>...</td>\n",
       "      <td>...</td>\n",
       "      <td>...</td>\n",
       "      <td>...</td>\n",
       "      <td>...</td>\n",
       "      <td>...</td>\n",
       "      <td>...</td>\n",
       "      <td>...</td>\n",
       "      <td>...</td>\n",
       "      <td>...</td>\n",
       "    </tr>\n",
       "    <tr>\n",
       "      <th>499418</th>\n",
       "      <td>1237661464920327359</td>\n",
       "      <td>3723</td>\n",
       "      <td>251.677648</td>\n",
       "      <td>23.826966</td>\n",
       "      <td>301</td>\n",
       "      <td>4</td>\n",
       "      <td>196</td>\n",
       "      <td>0.499490</td>\n",
       "      <td>0.000141</td>\n",
       "      <td>0.974687</td>\n",
       "      <td>lt_1</td>\n",
       "    </tr>\n",
       "    <tr>\n",
       "      <th>499419</th>\n",
       "      <td>1237661464920392894</td>\n",
       "      <td>3723</td>\n",
       "      <td>251.756870</td>\n",
       "      <td>23.730079</td>\n",
       "      <td>301</td>\n",
       "      <td>4</td>\n",
       "      <td>197</td>\n",
       "      <td>0.529422</td>\n",
       "      <td>0.000132</td>\n",
       "      <td>1.008880</td>\n",
       "      <td>lt_1</td>\n",
       "    </tr>\n",
       "    <tr>\n",
       "      <th>499420</th>\n",
       "      <td>1237661464920393216</td>\n",
       "      <td>3723</td>\n",
       "      <td>251.792416</td>\n",
       "      <td>23.808308</td>\n",
       "      <td>301</td>\n",
       "      <td>4</td>\n",
       "      <td>197</td>\n",
       "      <td>0.500006</td>\n",
       "      <td>0.000111</td>\n",
       "      <td>1.077218</td>\n",
       "      <td>lt_1</td>\n",
       "    </tr>\n",
       "    <tr>\n",
       "      <th>499421</th>\n",
       "      <td>1237661464920457374</td>\n",
       "      <td>3723</td>\n",
       "      <td>251.894250</td>\n",
       "      <td>23.699576</td>\n",
       "      <td>301</td>\n",
       "      <td>4</td>\n",
       "      <td>198</td>\n",
       "      <td>0.391515</td>\n",
       "      <td>0.000080</td>\n",
       "      <td>0.882577</td>\n",
       "      <td>lt_1</td>\n",
       "    </tr>\n",
       "    <tr>\n",
       "      <th>499422</th>\n",
       "      <td>1237661464921113625</td>\n",
       "      <td>3723</td>\n",
       "      <td>252.973302</td>\n",
       "      <td>22.606584</td>\n",
       "      <td>301</td>\n",
       "      <td>4</td>\n",
       "      <td>208</td>\n",
       "      <td>0.475108</td>\n",
       "      <td>0.000098</td>\n",
       "      <td>0.939186</td>\n",
       "      <td>lt_1</td>\n",
       "    </tr>\n",
       "  </tbody>\n",
       "</table>\n",
       "<p>499423 rows × 11 columns</p>\n",
       "</div>"
      ],
      "text/plain": [
       "                      objID   run          ra        dec  rerun  camcol  \\\n",
       "0       1237645942905504034   109   57.089447   0.136492    301       4   \n",
       "1       1237645942905569679   109   57.229650   0.014525    301       4   \n",
       "2       1237645942905635226   109   57.380089   0.130207    301       4   \n",
       "3       1237645942906028179   109   58.387196   0.065393    301       4   \n",
       "4       1237645942906028440   109   58.323072   0.121538    301       4   \n",
       "...                     ...   ...         ...        ...    ...     ...   \n",
       "499418  1237661464920327359  3723  251.677648  23.826966    301       4   \n",
       "499419  1237661464920392894  3723  251.756870  23.730079    301       4   \n",
       "499420  1237661464920393216  3723  251.792416  23.808308    301       4   \n",
       "499421  1237661464920457374  3723  251.894250  23.699576    301       4   \n",
       "499422  1237661464921113625  3723  252.973302  22.606584    301       4   \n",
       "\n",
       "        field         z      zErr     rChi2 z_range  \n",
       "0         150  0.166690  0.000006  1.315279    lt_1  \n",
       "1         151  0.499967  0.000116  1.168734    lt_1  \n",
       "2         152  0.173202  0.000011  1.142100    lt_1  \n",
       "3         158  0.198512  0.000007  2.942970    lt_1  \n",
       "4         158  0.368695  0.000141  1.485770    lt_1  \n",
       "...       ...       ...       ...       ...     ...  \n",
       "499418    196  0.499490  0.000141  0.974687    lt_1  \n",
       "499419    197  0.529422  0.000132  1.008880    lt_1  \n",
       "499420    197  0.500006  0.000111  1.077218    lt_1  \n",
       "499421    198  0.391515  0.000080  0.882577    lt_1  \n",
       "499422    208  0.475108  0.000098  0.939186    lt_1  \n",
       "\n",
       "[499423 rows x 11 columns]"
      ]
     },
     "execution_count": 12,
     "metadata": {},
     "output_type": "execute_result"
    }
   ],
   "source": [
    "data"
   ]
  },
  {
   "cell_type": "code",
   "execution_count": 6,
   "metadata": {},
   "outputs": [],
   "source": [
    "import pandas as pd\n",
    "import numpy as np"
   ]
  },
  {
   "cell_type": "code",
   "execution_count": 14,
   "metadata": {},
   "outputs": [],
   "source": [
    "hist, bin_edges = np.histogram(data['z'], bins='auto')"
   ]
  },
  {
   "cell_type": "code",
   "execution_count": 15,
   "metadata": {},
   "outputs": [],
   "source": [
    "total_samples = 75000\n",
    "bin_counts = hist\n",
    "bin_proportions = bin_counts / bin_counts.sum()\n",
    "samples_per_bin = (bin_proportions * total_samples).astype(int)"
   ]
  },
  {
   "cell_type": "code",
   "execution_count": 17,
   "metadata": {},
   "outputs": [
    {
     "name": "stdout",
     "output_type": "stream",
     "text": [
      "Sampled DataFrame has 75000 rows.\n"
     ]
    }
   ],
   "source": [
    "import pandas as pd\n",
    "import numpy as np\n",
    "\n",
    "# Example DataFrame\n",
    "df = data\n",
    "# Calculate proportional sampling\n",
    "total_samples = 75000\n",
    "bin_counts = hist\n",
    "bin_proportions = bin_counts / bin_counts.sum()\n",
    "samples_per_bin = (bin_proportions * total_samples).astype(int)\n",
    "\n",
    "# Sample from each bin\n",
    "sampled_df = pd.DataFrame()\n",
    "\n",
    "for i in range(len(bin_edges) - 1):\n",
    "    bin_mask = (df['z'] >= bin_edges[i]) & (df['z'] < bin_edges[i + 1])\n",
    "    bin_df = df[bin_mask]\n",
    "    n_samples = min(samples_per_bin[i], len(bin_df))  # Adjust sample size if necessary\n",
    "    sampled_bin_df = bin_df.sample(n=n_samples, random_state=42, replace=False)\n",
    "    sampled_df = pd.concat([sampled_df, sampled_bin_df], axis=0)\n",
    "\n",
    "# If the total number of samples is less than desired, sample additional rows\n",
    "if len(sampled_df) < total_samples:\n",
    "    additional_samples = total_samples - len(sampled_df)\n",
    "    remaining_df = df[~df.index.isin(sampled_df.index)]\n",
    "    additional_sampled_df = remaining_df.sample(n=additional_samples, random_state=42, replace=False)\n",
    "    sampled_df = pd.concat([sampled_df, additional_sampled_df], axis=0)\n",
    "\n",
    "# Verify the sample\n",
    "print(f\"Sampled DataFrame has {len(sampled_df)} rows.\")"
   ]
  },
  {
   "cell_type": "code",
   "execution_count": 18,
   "metadata": {},
   "outputs": [
    {
     "data": {
      "text/plain": [
       "<Axes: >"
      ]
     },
     "execution_count": 18,
     "metadata": {},
     "output_type": "execute_result"
    },
    {
     "data": {
      "image/png": "[encoded data removed]",
      "text/plain": [
       "<Figure size 640x480 with 1 Axes>"
      ]
     },
     "metadata": {},
     "output_type": "display_data"
    }
   ],
   "source": [
    "sampled_df['z'].hist(bins='auto')"
   ]
  },
  {
   "cell_type": "code",
   "execution_count": 22,
   "metadata": {},
   "outputs": [],
   "source": [
    "sampled_df.reset_index(drop=True).to_csv(\"data_lt_1_sampled_75_k_rows.csv\")"
   ]
  },
  {
   "cell_type": "markdown",
   "metadata": {},
   "source": [
    "---"
   ]
  }
 ],
 "metadata": {
  "kernelspec": {
   "display_name": "hermes",
   "language": "python",
   "name": "python3"
  },
  "language_info": {
   "codemirror_mode": {
    "name": "ipython",
    "version": 3
   },
   "file_extension": ".py",
   "mimetype": "text/x-python",
   "name": "python",
   "nbconvert_exporter": "python",
   "pygments_lexer": "ipython3",
   "version": "3.11.9"
  }
 },
 "nbformat": 4,
 "nbformat_minor": 2
}
